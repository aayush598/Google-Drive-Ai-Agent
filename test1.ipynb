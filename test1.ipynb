{
 "cells": [
  {
   "cell_type": "code",
   "execution_count": 1,
   "metadata": {},
   "outputs": [
    {
     "name": "stdout",
     "output_type": "stream",
     "text": [
      "Project structure created successfully in 'your_project'\n"
     ]
    }
   ],
   "source": [
    "import os\n",
    "\n",
    "def create_project_structure(base_dir):\n",
    "    structure = [\n",
    "        \"config\",\n",
    "        \"controllers\",\n",
    "        \"models\",\n",
    "        \"services\",\n",
    "        \"static/css\",\n",
    "        \"static/js\",\n",
    "        \"templates\",\n",
    "        \"routes\",\n",
    "    ]\n",
    "    \n",
    "    files = {\n",
    "        \"config/.env\": \"\",  # Empty .env file\n",
    "        \"config/client_secrets.json\": \"{}\",  # Empty JSON file\n",
    "        \"controllers/categorize.py\": \"\",  \n",
    "        \"controllers/duplicate.py\": \"\",\n",
    "        \"controllers/fetch_content.py\": \"\",\n",
    "        \"controllers/fetch_files.py\": \"\",\n",
    "        \"controllers/move_file.py\": \"\",\n",
    "        \"controllers/permissions.py\": \"\",\n",
    "        \"controllers/rename_file.py\": \"\",\n",
    "        \"controllers/search.py\": \"\",\n",
    "        \"models/database.py\": \"\",\n",
    "        \"models/file_model.py\": \"\",\n",
    "        \"services/folder_structure.py\": \"\",\n",
    "        \"services/gemini_request.py\": \"\",\n",
    "        \"services/process_gemini_response.py\": \"\",\n",
    "        \"static/css/style.css\": \"\",\n",
    "        \"static/js/script.js\": \"\",\n",
    "        \"templates/fetchContent.html\": \"\",\n",
    "        \"templates/index.html\": \"\",\n",
    "        \"templates/moveFiles.html\": \"\",\n",
    "        \"templates/permissions.html\": \"\",\n",
    "        \"templates/renameFile.html\": \"\",\n",
    "        \"routes/api.py\": \"\",\n",
    "        \"main.py\": \"\",\n",
    "        \"Procfile\": \"\",\n",
    "        \"requirements.txt\": \"\",\n",
    "        \".gitignore\": \"\",\n",
    "    }\n",
    "    \n",
    "    for folder in structure:\n",
    "        os.makedirs(os.path.join(base_dir, folder), exist_ok=True)\n",
    "    \n",
    "    for file, content in files.items():\n",
    "        with open(os.path.join(base_dir, file), \"w\", encoding=\"utf-8\") as f:\n",
    "            f.write(content)\n",
    "    \n",
    "    print(f\"Project structure created successfully in '{base_dir}'\")\n",
    "\n",
    "if __name__ == \"__main__\":\n",
    "    base_directory = \".\"  # Change this to your desired project name\n",
    "    create_project_structure(base_directory)\n"
   ]
  },
  {
   "cell_type": "code",
   "execution_count": null,
   "metadata": {},
   "outputs": [],
   "source": []
  }
 ],
 "metadata": {
  "kernelspec": {
   "display_name": "Python 3",
   "language": "python",
   "name": "python3"
  },
  "language_info": {
   "codemirror_mode": {
    "name": "ipython",
    "version": 3
   },
   "file_extension": ".py",
   "mimetype": "text/x-python",
   "name": "python",
   "nbconvert_exporter": "python",
   "pygments_lexer": "ipython3",
   "version": "3.8.10"
  }
 },
 "nbformat": 4,
 "nbformat_minor": 2
}
